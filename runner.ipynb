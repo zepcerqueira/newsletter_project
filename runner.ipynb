{
 "cells": [
  {
   "cell_type": "code",
   "execution_count": 1,
   "metadata": {},
   "outputs": [],
   "source": [
    "import web_scrapping\n",
    "import wrap_up\n",
    "import summarizer\n",
    "import data_uploader\n",
    "\n",
    "import schedule\n",
    "import time"
   ]
  },
  {
   "cell_type": "code",
   "execution_count": null,
   "metadata": {},
   "outputs": [],
   "source": [
    "def job1():\n",
    "    # Step 1: Scrape articles\n",
    "    articles = web_scrapping.get_articles_from_fiercehealthcare()\n",
    "    print(\"Job 1 completed: Articles scraped.\")\n",
    "\n",
    "def job2():\n",
    "    # Step 2: Wrap up articles (assumes articles are stored or passed correctly)\n",
    "    wrapped_articles = wrap_up.wrap(articles)\n",
    "    print(\"Job 2 completed: Articles wrapped.\")\n",
    "\n",
    "def job3():\n",
    "    # Step 3: Summarize articles (assumes wrapped articles are stored or passed correctly)\n",
    "    summaries = summarizer.summarize(wrapped_articles)\n",
    "    print(\"Job 3 completed: Articles summarized.\")\n",
    "\n",
    "def job4():\n",
    "    # Step 4: Upload data (assumes summaries are stored or passed correctly)\n",
    "    data_uploader.upload(summaries)\n",
    "    print(\"Job 4 completed: Articles uploaded.\")\n",
    "\n",
    "# Schedule each job to run every hour with a 10-minute stagger between them\n",
    "schedule.every().hour.at(\":00\").do(job1)\n",
    "schedule.every().hour.at(\":10\").do(job2)\n",
    "schedule.every().hour.at(\":20\").do(job3)\n",
    "schedule.every().hour.at(\":30\").do(job4)\n",
    "\n",
    "while True:\n",
    "    schedule.run_pending()\n",
    "    time.sleep(1)"
   ]
  }
 ],
 "metadata": {
  "kernelspec": {
   "display_name": "Python 3",
   "language": "python",
   "name": "python3"
  },
  "language_info": {
   "codemirror_mode": {
    "name": "ipython",
    "version": 3
   },
   "file_extension": ".py",
   "mimetype": "text/x-python",
   "name": "python",
   "nbconvert_exporter": "python",
   "pygments_lexer": "ipython3",
   "version": "3.11.3"
  }
 },
 "nbformat": 4,
 "nbformat_minor": 2
}
